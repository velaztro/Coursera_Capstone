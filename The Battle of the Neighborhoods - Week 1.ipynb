{
    "cells": [
        {
            "cell_type": "markdown",
            "metadata": {},
            "source": "# The Battle of Neighborhoods: Airbnb in Mexico City"
        },
        {
            "cell_type": "markdown",
            "metadata": {},
            "source": "![Image of Yaktocat](https://inmobiliare.com/himalaya/wp-content/uploads/2020/05/vivienda-cdmx-valor.png)\n"
        },
        {
            "cell_type": "markdown",
            "metadata": {},
            "source": "## 1. Introduction/Business Understanding"
        },
        {
            "cell_type": "markdown",
            "metadata": {},
            "source": "Airbnb accomodation is a booming industry with the latest rise in tourism worldwide. This means the demand for Airbnb accomodation is only going to grow further and more people would want to be in the game. \n- How should a new business person decide where to open a Airbnb?\n- What factors should he look at before investing?\n- Which neighborhood venues affect a user's rating for *location* of an Airbnb?\n\nAt the same time, it is difficult for a travellers, especially first-timers, to select an Airbnb from among many options. Airbnb reviews are subjective and differ from person-to-person and one cannot solely depend on them to make a decision. It is especially important to consider other aspects like price and neighborhood, which can greatly influence one's experience of the city/country.\nI will try to answer the following questions \n- How does price vary with location?\n- How does proximity to transportation affect hostel rating?\n- Suggest similar hostel but which cheaper price\n\nFor this project, we will be looking at Airbnbs in Mexico, in particular, Mexico City."
        },
        {
            "cell_type": "markdown",
            "metadata": {},
            "source": "This project will serve two groups of audience:\n1. **Travellers:** Help them make an informed decision while choosing an Airbnb by providing an in-depth analysis of Airbnbs and their neighborhood.\n2. **Business Person:** Provide useful information and models which can help them where to open their first/next Airbnb."
        },
        {
            "cell_type": "markdown",
            "metadata": {},
            "source": "## 2. Data Requirements"
        },
        {
            "cell_type": "markdown",
            "metadata": {},
            "source": "One city will be analysed in this project : **Mexico City**."
        },
        {
            "cell_type": "markdown",
            "metadata": {},
            "source": "Following are the datasets used in the project along with the reasons for choosing them:\n\n**1. [Mexico City Airbnb's Dataset](http://insideairbnb.com/get-the-data.html)**: The data behind the Inside Airbnb site is sourced from publicly available information from the Airbnb site. The data has been analyzed, cleansed and aggregated where appropriate to faciliate public discussion.\n\n**2. [Foursquare API](https://developer.foursquare.com/docs/api)**: This API will help me get the venues around the Airbnbs which I will use for EDA and clustering.\n\n**3. [Mexico City Land Price](https://www.entrepreneur.com/article/342506)**: I will scrape this website to get land prices of various neighborhoods in Mexico City."
        },
        {
            "cell_type": "markdown",
            "metadata": {},
            "source": "Firstly, I will use the list of Airbnbs from *Mexico City Airbnb's dataset* and use *Foursquare API* to get venues around the Airbnbs. I will then use EDA to explore the neighborhood and how it affects the price of the airbnb. I will also use the combined dataset to cluster similar airbnbs as per pricing and neighborhood. \n\nSecond, I will combine the above data with the land price for the area in which the Airbnb is situated and them develop clustering and regression models to predict where a new Airbnb should be opened and how much should it be priced at."
        },
        {
            "cell_type": "code",
            "execution_count": null,
            "metadata": {},
            "outputs": [],
            "source": ""
        }
    ],
    "metadata": {
        "kernelspec": {
            "display_name": "Python 3.6",
            "language": "python",
            "name": "python3"
        },
        "language_info": {
            "codemirror_mode": {
                "name": "ipython",
                "version": 3
            },
            "file_extension": ".py",
            "mimetype": "text/x-python",
            "name": "python",
            "nbconvert_exporter": "python",
            "pygments_lexer": "ipython3",
            "version": "3.6.9"
        }
    },
    "nbformat": 4,
    "nbformat_minor": 4
}
